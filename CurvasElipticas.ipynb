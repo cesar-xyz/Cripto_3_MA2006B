{
 "cells": [
  {
   "cell_type": "markdown",
   "metadata": {
    "pycharm": {
     "name": "#%% md\n"
    }
   },
   "source": [
    "# Curvas elípticas - tarea 1\n",
    "César Guillermo Vázquez Alvarez - A01197857\n",
    "\n",
    "$$ \ty^2 = x^3 + 3x +2 \\bmod 7$$\n",
    "\n",
    "* [a) Calcular todos los puntos sobre E](#puntos)\n",
    "* [b) Determinar el orden del grupo.](#orden)\n",
    "* [c) si a = (0,3), ¿es un elemento generador?](#generador)"
   ]
  },
  {
   "cell_type": "markdown",
   "source": [
    "### Funciones a utilizar durante el programa"
   ],
   "metadata": {
    "collapsed": false,
    "pycharm": {
     "name": "#%% md\n"
    }
   }
  },
  {
   "cell_type": "code",
   "execution_count": 1,
   "metadata": {
    "pycharm": {
     "name": "#%%\n"
    }
   },
   "outputs": [],
   "source": [
    "def inversoAditivo(a, n):\n",
    "    return -a % n"
   ]
  },
  {
   "cell_type": "code",
   "execution_count": 2,
   "metadata": {
    "pycharm": {
     "name": "#%%\n"
    }
   },
   "outputs": [],
   "source": [
    "def inversoMultiplicativo(a, p):\n",
    "    result = 0\n",
    "    for i in range(0, p + 1):\n",
    "        if (a * i) % p == 1:\n",
    "            result = i\n",
    "    return result"
   ]
  },
  {
   "cell_type": "code",
   "execution_count": 3,
   "metadata": {
    "pycharm": {
     "name": "#%%\n"
    }
   },
   "outputs": [],
   "source": [
    "def calcularPunto(x, y, p):\n",
    "    # \ty^2 = x^3 + 3x +2 mod 7\n",
    "    s = (((3 * x ** 2) + 3) * inversoMultiplicativo(2 * y, p)) % p\n",
    "    x3 = ((s ** 2) - x + inversoAditivo(x, p)) % p\n",
    "    y3 = (s * (x + inversoAditivo(x3, p)) + inversoAditivo(y, p)) % p\n",
    "    return x3, y3"
   ]
  },
  {
   "cell_type": "code",
   "execution_count": 4,
   "metadata": {
    "pycharm": {
     "name": "#%%\n"
    }
   },
   "outputs": [],
   "source": [
    "def sumarPunto(x, y, x2, y2, p):\n",
    "    s = ((y - y2) * inversoMultiplicativo(x - x2, p)) % p\n",
    "    x3 = ((s ** 2) - x2 + inversoAditivo(x, p)) % p\n",
    "    y3 = (s * (x + inversoAditivo(x3, p)) + inversoAditivo(y, p)) % p\n",
    "    return x3, y3"
   ]
  },
  {
   "cell_type": "code",
   "execution_count": 5,
   "metadata": {
    "pycharm": {
     "name": "#%%\n"
    }
   },
   "outputs": [],
   "source": [
    "def verificarGenerador(pts, puntos):\n",
    "    for punto in pts:\n",
    "        if punto not in puntos:\n",
    "            return False\n",
    "    return True"
   ]
  },
  {
   "cell_type": "markdown",
   "metadata": {
    "pycharm": {
     "name": "#%% md\n"
    }
   },
   "source": [
    "## a) Calcular todos los puntos sobre E <a class=\"anchor\" id=\"puntos\"></a>"
   ]
  },
  {
   "cell_type": "code",
   "execution_count": 6,
   "metadata": {
    "pycharm": {
     "name": "#%%\n"
    }
   },
   "outputs": [],
   "source": [
    "# Calcular los puntos en la curva elíptica\n",
    "points = []\n",
    "p = 7\n",
    "for x in range(p):\n",
    "    y_squared = ((x ** 3) + 3 * x + 2) % p\n",
    "    for y in range(p):\n",
    "        if y ** 2 % p == y_squared:\n",
    "            points.append((x, y))\n",
    "            if y != 0:\n",
    "                points.append((x, -y % p))"
   ]
  },
  {
   "cell_type": "code",
   "execution_count": 7,
   "metadata": {
    "pycharm": {
     "name": "#%%\n"
    }
   },
   "outputs": [
    {
     "data": {
      "text/plain": "[(2, 4), (0, 4), (5, 4), (0, 3), (4, 6), (2, 3), (5, 3), (4, 1)]"
     },
     "execution_count": 7,
     "metadata": {},
     "output_type": "execute_result"
    }
   ],
   "source": [
    "# Los puntos son\n",
    "pts = list(set(points))\n",
    "pts"
   ]
  },
  {
   "cell_type": "markdown",
   "metadata": {
    "pycharm": {
     "name": "#%% md\n"
    }
   },
   "source": [
    "## b) Determinar el orden del grupo. <a class=\"anchor\" id=\"orden\"></a>"
   ]
  },
  {
   "cell_type": "code",
   "execution_count": 8,
   "metadata": {
    "pycharm": {
     "name": "#%%\n"
    }
   },
   "outputs": [
    {
     "name": "stdout",
     "output_type": "stream",
     "text": [
      "El orden del grupo es: 9\n"
     ]
    }
   ],
   "source": [
    "# Determinar el orden del grupo\n",
    "group_order = len(set(points)) + 1\n",
    "print(\"El orden del grupo es:\", group_order)"
   ]
  },
  {
   "cell_type": "markdown",
   "metadata": {
    "pycharm": {
     "name": "#%% md\n"
    }
   },
   "source": [
    "### Ver todos los generadores"
   ]
  },
  {
   "cell_type": "code",
   "execution_count": 9,
   "metadata": {
    "pycharm": {
     "name": "#%%\n"
    }
   },
   "outputs": [
    {
     "name": "stdout",
     "output_type": "stream",
     "text": [
      "(0, 3)\n",
      "(0, 4)\n",
      "(2, 3)\n",
      "(2, 4)\n",
      "(4, 1)\n",
      "(4, 6)\n"
     ]
    }
   ],
   "source": [
    "p = 7\n",
    "for x in range(p):\n",
    "    for y in range(p):\n",
    "        puntos = [(x, y)]\n",
    "        x2, y2 = calcularPunto(x, y, p)\n",
    "        for i in range(p):\n",
    "            puntos.append((x2, y2))\n",
    "            x2, y2 = sumarPunto(x, y, x2, y2, p)\n",
    "        if verificarGenerador(pts, puntos):\n",
    "            print((x, y))"
   ]
  },
  {
   "cell_type": "markdown",
   "metadata": {
    "pycharm": {
     "name": "#%% md\n"
    }
   },
   "source": [
    "## c) si a = (0,3), ¿es un elemento generador?. <a class=\"anchor\" id=\"orden\"></a>"
   ]
  },
  {
   "cell_type": "code",
   "execution_count": 10,
   "metadata": {
    "pycharm": {
     "name": "#%%\n"
    }
   },
   "outputs": [
    {
     "data": {
      "text/plain": "[(0, 3), (0, 4), (2, 3), (2, 4), (4, 1), (4, 6), (5, 3), (5, 4)]"
     },
     "execution_count": 10,
     "metadata": {},
     "output_type": "execute_result"
    }
   ],
   "source": [
    "p = 7\n",
    "x = 0\n",
    "y = 3\n",
    "puntos = [(x, y)]\n",
    "x2, y2 = calcularPunto(x, y, p)\n",
    "for i in range(p):\n",
    "    puntos.append((x2, y2))\n",
    "    x2, y2 = sumarPunto(x, y, x2, y2, p)\n",
    "puntos.sort()\n",
    "puntos"
   ]
  },
  {
   "cell_type": "code",
   "execution_count": 11,
   "metadata": {
    "pycharm": {
     "name": "#%%\n"
    }
   },
   "outputs": [
    {
     "data": {
      "text/plain": "[(0, 3), (0, 4), (2, 3), (2, 4), (4, 1), (4, 6), (5, 3), (5, 4)]"
     },
     "execution_count": 11,
     "metadata": {},
     "output_type": "execute_result"
    }
   ],
   "source": [
    "pts.sort()\n",
    "pts"
   ]
  },
  {
   "cell_type": "code",
   "execution_count": 12,
   "metadata": {
    "pycharm": {
     "name": "#%%\n"
    }
   },
   "outputs": [
    {
     "data": {
      "text/plain": "True"
     },
     "execution_count": 12,
     "metadata": {},
     "output_type": "execute_result"
    }
   ],
   "source": [
    "# Si es true si es un elemento generador.\n",
    "verificarGenerador(pts, puntos)"
   ]
  },
  {
   "cell_type": "markdown",
   "source": [
    "El punto (0,3) es generador de la curva eliptica dada por $ y^2 = x^3 + 3x +2 \\bmod 7$, ya que genera todos los demás puntos dentro nuestra curva eliptica."
   ],
   "metadata": {
    "collapsed": false,
    "pycharm": {
     "name": "#%% md\n"
    }
   }
  }
 ],
 "metadata": {
  "kernelspec": {
   "display_name": "Python 3 (ipykernel)",
   "language": "python",
   "name": "python3"
  },
  "language_info": {
   "codemirror_mode": {
    "name": "ipython",
    "version": 3
   },
   "file_extension": ".py",
   "mimetype": "text/x-python",
   "name": "python",
   "nbconvert_exporter": "python",
   "pygments_lexer": "ipython3",
   "version": "3.9.12"
  }
 },
 "nbformat": 4,
 "nbformat_minor": 1
}