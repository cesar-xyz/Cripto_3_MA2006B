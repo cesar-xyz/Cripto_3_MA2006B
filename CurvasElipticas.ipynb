{
 "cells": [
  {
   "cell_type": "code",
   "execution_count": null,
   "metadata": {
    "collapsed": true,
    "pycharm": {
     "name": "#%%\n"
    }
   },
   "outputs": [],
   "source": []
  },
  {
   "cell_type": "code",
   "execution_count": null,
   "outputs": [],
   "source": [
    "# Calcular los puntos en la curva elíptica\n",
    "points = []\n",
    "for x in range(7):\n",
    "    y_squared = (x**3 + 3*x + 2) % 7\n",
    "    for y in range(7):\n",
    "        if y**2 % 7 == y_squared:\n",
    "            points.append((x, y))\n",
    "            if y != 0:\n",
    "                points.append((x, -y % 7))\n",
    "\n",
    "# Determinar el orden del grupo\n",
    "group_order = len(points) + 1\n",
    "print(\"El orden del grupo es:\", group_order)"
   ],
   "metadata": {
    "collapsed": false,
    "pycharm": {
     "name": "#%%\n",
     "is_executing": true
    }
   }
  },
  {
   "cell_type": "code",
   "execution_count": null,
   "outputs": [],
   "source": [],
   "metadata": {
    "collapsed": false,
    "pycharm": {
     "name": "#%%\n"
    }
   }
  }
 ],
 "metadata": {
  "kernelspec": {
   "display_name": "Python 3",
   "language": "python",
   "name": "python3"
  },
  "language_info": {
   "codemirror_mode": {
    "name": "ipython",
    "version": 2
   },
   "file_extension": ".py",
   "mimetype": "text/x-python",
   "name": "python",
   "nbconvert_exporter": "python",
   "pygments_lexer": "ipython2",
   "version": "2.7.6"
  }
 },
 "nbformat": 4,
 "nbformat_minor": 0
}