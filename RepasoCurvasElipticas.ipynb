{
 "cells": [
  {
   "cell_type": "markdown",
   "metadata": {
    "pycharm": {
     "name": "#%% md\n"
    }
   },
   "source": [
    "# Repaso curvas elípticas\n",
    "César Guillermo Vázquez Alvarez - A01197857\n",
    "\n",
    "\n",
    "## 1) Dada la curva eliptica\n",
    "$$ \ty^2 = x^3 + 4x + 20 \\bmod 29$$\n",
    "\n",
    "* [a) Calcular 9P.](#9P)\n",
    "* [b) Calcular 20P.](#20P)\n",
    "* [c) #E](#generador)"
   ]
  },
  {
   "cell_type": "markdown",
   "metadata": {
    "pycharm": {
     "name": "#%% md\n"
    }
   },
   "source": [
    "### Funciones a utilizar durante el programa"
   ]
  },
  {
   "cell_type": "code",
   "execution_count": 1,
   "metadata": {
    "pycharm": {
     "name": "#%%\n"
    }
   },
   "outputs": [],
   "source": [
    "def inversoAditivo(a, n):\n",
    "    return -a % n"
   ]
  },
  {
   "cell_type": "code",
   "execution_count": 2,
   "metadata": {
    "pycharm": {
     "name": "#%%\n"
    }
   },
   "outputs": [],
   "source": [
    "def inversoMultiplicativo(a, p):\n",
    "    result = 0\n",
    "    for i in range(0, p + 1):\n",
    "        if (a * i) % p == 1:\n",
    "            result = i\n",
    "    return result"
   ]
  },
  {
   "cell_type": "code",
   "execution_count": 3,
   "metadata": {
    "pycharm": {
     "name": "#%%\n"
    }
   },
   "outputs": [],
   "source": [
    "def calcularPunto(x, y, a, p):\n",
    "    s = (((3 * x ** 2) + a) * inversoMultiplicativo(2 * y, p)) % p\n",
    "    x3 = ((s ** 2) - x + inversoAditivo(x, p)) % p\n",
    "    y3 = (s * (x + inversoAditivo(x3, p)) + inversoAditivo(y, p)) % p\n",
    "    return x3, y3"
   ]
  },
  {
   "cell_type": "code",
   "execution_count": 4,
   "metadata": {
    "pycharm": {
     "name": "#%%\n"
    }
   },
   "outputs": [],
   "source": [
    "def sumarPunto(x, y, x2, y2, p):\n",
    "    s = ((y + inversoAditivo(y2, p)) * inversoMultiplicativo(x + inversoAditivo(x2, p), p)) % p\n",
    "    x3 = ((s ** 2) - x2 + inversoAditivo(x, p)) % p\n",
    "    y3 = (s * (x + inversoAditivo(x3, p)) + inversoAditivo(y, p)) % p\n",
    "    return x3, y3"
   ]
  },
  {
   "cell_type": "code",
   "execution_count": 5,
   "metadata": {
    "pycharm": {
     "name": "#%%\n"
    }
   },
   "outputs": [],
   "source": [
    "def expBin(x, y, k, p, a):\n",
    "    x2 = x\n",
    "    y2 = y\n",
    "    for bi in bin(k)[3::]:\n",
    "        if bi == '0':\n",
    "            x2, y2 = calcularPunto(x2, y2, a, p)\n",
    "        else:\n",
    "            x2, y2 = calcularPunto(x2, y2, a, p)\n",
    "            x2, y2 = sumarPunto(x, y, x2, y2, p)\n",
    "    return x2, y2"
   ]
  },
  {
   "cell_type": "markdown",
   "metadata": {
    "pycharm": {
     "name": "#%% md\n"
    }
   },
   "source": [
    "# Codigo"
   ]
  },
  {
   "cell_type": "code",
   "execution_count": 6,
   "metadata": {
    "pycharm": {
     "name": "#%%\n"
    }
   },
   "outputs": [],
   "source": [
    "p = 29\n",
    "x = 8\n",
    "y = 10\n",
    "puntos = [(x, y)]\n",
    "x2, y2 = calcularPunto(x, y, 4, p)\n",
    "for i in range(p):\n",
    "    puntos.append((x2, y2))\n",
    "    x2, y2 = sumarPunto(x, y, x2, y2, p)"
   ]
  },
  {
   "cell_type": "markdown",
   "metadata": {
    "pycharm": {
     "name": "#%% md\n"
    }
   },
   "source": [
    "### a) 9P. <a class=\"anchor\" id=\"9P\"></a>"
   ]
  },
  {
   "cell_type": "code",
   "execution_count": 7,
   "metadata": {
    "pycharm": {
     "name": "#%%\n"
    }
   },
   "outputs": [
    {
     "data": {
      "text/plain": [
       "(4, 10)"
      ]
     },
     "execution_count": 7,
     "metadata": {},
     "output_type": "execute_result"
    }
   ],
   "source": [
    "puntos[8]"
   ]
  },
  {
   "cell_type": "code",
   "execution_count": 8,
   "metadata": {
    "pycharm": {
     "name": "#%%\n"
    }
   },
   "outputs": [
    {
     "data": {
      "text/plain": [
       "(4, 10)"
      ]
     },
     "execution_count": 8,
     "metadata": {},
     "output_type": "execute_result"
    }
   ],
   "source": [
    "expBin(8, 10, 9, 29, 4)"
   ]
  },
  {
   "cell_type": "markdown",
   "metadata": {
    "pycharm": {
     "name": "#%% md\n"
    }
   },
   "source": [
    "### b)20P. <a class=\"anchor\" id=\"20P\"></a>"
   ]
  },
  {
   "cell_type": "code",
   "execution_count": 9,
   "metadata": {
    "pycharm": {
     "name": "#%%\n"
    }
   },
   "outputs": [
    {
     "data": {
      "text/plain": [
       "(19, 13)"
      ]
     },
     "execution_count": 9,
     "metadata": {},
     "output_type": "execute_result"
    }
   ],
   "source": [
    "puntos[19]"
   ]
  },
  {
   "cell_type": "code",
   "execution_count": 10,
   "metadata": {
    "pycharm": {
     "name": "#%%\n"
    }
   },
   "outputs": [
    {
     "data": {
      "text/plain": [
       "(19, 13)"
      ]
     },
     "execution_count": 10,
     "metadata": {},
     "output_type": "execute_result"
    }
   ],
   "source": [
    "expBin(8, 10, 20, 29, 4)"
   ]
  },
  {
   "cell_type": "markdown",
   "metadata": {
    "pycharm": {
     "name": "#%% md\n"
    }
   },
   "source": [
    "### c)#E. <a class=\"anchor\" id=\"generador\"></a>"
   ]
  },
  {
   "cell_type": "code",
   "execution_count": 11,
   "metadata": {
    "pycharm": {
     "name": "#%%\n"
    }
   },
   "outputs": [
    {
     "name": "stdout",
     "output_type": "stream",
     "text": [
      "El orden del grupo es: 37\n"
     ]
    }
   ],
   "source": [
    "# Calcular los puntos en la curva elíptica\n",
    "points = []\n",
    "p = 29\n",
    "for x in range(p):\n",
    "    y_squared = ((x ** 3) + 4 * x + 20) % p\n",
    "    for y in range(p):\n",
    "        if y ** 2 % p == y_squared:\n",
    "            points.append((x, y))\n",
    "            if y != 0:\n",
    "                points.append((x, -y % p))\n",
    "# Determinar el orden del grupo\n",
    "group_order = len(set(points)) + 1\n",
    "print(\"El orden del grupo es:\", group_order)"
   ]
  },
  {
   "cell_type": "markdown",
   "metadata": {
    "pycharm": {
     "name": "#%% md\n"
    }
   },
   "source": [
    "## 2) Usar DH para curvas elípticas si tu clave privada a = 6, la clave pública que recibes es B = (5,9). La curva elíptica que se están usando es $y^2 = x^2 + x + 6 \\bmod 11$. Verificar la clave (session key)"
   ]
  },
  {
   "cell_type": "code",
   "execution_count": 12,
   "metadata": {
    "pycharm": {
     "name": "#%%\n"
    }
   },
   "outputs": [
    {
     "data": {
      "text/plain": [
       "(2, 7)"
      ]
     },
     "execution_count": 12,
     "metadata": {},
     "output_type": "execute_result"
    }
   ],
   "source": [
    "expBin(5,9,6,11,1)"
   ]
  },
  {
   "cell_type": "markdown",
   "metadata": {
    "pycharm": {
     "name": "#%% md\n"
    }
   },
   "source": [
    "(2,7) = $\\alpha B$ = $\\alpha(\\beta P)$"
   ]
  },
  {
   "cell_type": "markdown",
   "source": [
    "<img height=\"400\" src=\"/Users/cgva/PycharmProjects/Cripto_3_MA2006B/imagenes/key_exchange.jpg\" width=\"700\"/>"
   ],
   "metadata": {
    "collapsed": false,
    "pycharm": {
     "name": "#%% md\n"
    }
   }
  },
  {
   "cell_type": "code",
   "execution_count": null,
   "metadata": {},
   "outputs": [],
   "source": []
  }
 ],
 "metadata": {
  "kernelspec": {
   "display_name": "Python 3 (ipykernel)",
   "language": "python",
   "name": "python3"
  },
  "language_info": {
   "codemirror_mode": {
    "name": "ipython",
    "version": 3
   },
   "file_extension": ".py",
   "mimetype": "text/x-python",
   "name": "python",
   "nbconvert_exporter": "python",
   "pygments_lexer": "ipython3",
   "version": "3.9.12"
  }
 },
 "nbformat": 4,
 "nbformat_minor": 1
}